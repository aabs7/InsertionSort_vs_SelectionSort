{
 "cells": [
  {
   "cell_type": "code",
   "execution_count": null,
   "id": "ab7a816c",
   "metadata": {},
   "outputs": [],
   "source": [
    "# Question1: Generate each xi to be uniformly random integer between 1 and n. For each data point, take the average\n",
    "# of three run. "
   ]
  },
  {
   "cell_type": "code",
   "execution_count": 1,
   "id": "c7a1ed0d",
   "metadata": {},
   "outputs": [],
   "source": [
    "import numpy as np\n",
    "import time"
   ]
  },
  {
   "cell_type": "code",
   "execution_count": 2,
   "id": "01d7a2be",
   "metadata": {},
   "outputs": [],
   "source": [
    "# generating random numbers upto n where each number is generated 'times'\n",
    "# times and average is taken.\n",
    "def generate_random_numbers(n,high = None):\n",
    "    if high is None:\n",
    "        high = n\n",
    "    # First initialize array of size n\n",
    "    r = np.zeros(n)\n",
    "    # add each element with newly generated element\n",
    "    r += np.random.randint(low = 1,high = high,size = n)\n",
    "    # take the average for each element in the array and round up\n",
    "    # return the array\n",
    "    return r"
   ]
  },
  {
   "cell_type": "code",
   "execution_count": 3,
   "id": "a638ecef",
   "metadata": {},
   "outputs": [
    {
     "name": "stdout",
     "output_type": "stream",
     "text": [
      "[4. 4. 1. 6. 3. 4. 5. 9. 7. 5.]\n"
     ]
    }
   ],
   "source": [
    "a = generate_random_numbers(10)\n",
    "print(a)"
   ]
  },
  {
   "cell_type": "code",
   "execution_count": 4,
   "id": "405bcb74",
   "metadata": {},
   "outputs": [
    {
     "name": "stdout",
     "output_type": "stream",
     "text": [
      "[ 8. 14.  4.  4. 13. 10.  3.  3.  6.  9.  1. 12. 13. 11. 10.]\n"
     ]
    }
   ],
   "source": [
    "check_random = generate_random_numbers(n = 15)\n",
    "print(check_random)"
   ]
  },
  {
   "cell_type": "markdown",
   "id": "3465221b",
   "metadata": {},
   "source": [
    "## Implementing INSERTION SORT"
   ]
  },
  {
   "cell_type": "code",
   "execution_count": 5,
   "id": "0a3bb228",
   "metadata": {},
   "outputs": [],
   "source": [
    "# implementing insertion sort\n",
    "def insertion_sort(A):\n",
    "    # copy initial array so that the initial array is not changed\n",
    "    sorting = A.copy()\n",
    "    start = time.time()\n",
    "    for j in range(1,len(sorting)):\n",
    "        # store next position to compare on key\n",
    "        key = sorting[j]\n",
    "        # store the current position index on i\n",
    "        i = j - 1\n",
    "        # if the current index > 0 and, current value is greater than next value (key)\n",
    "        while i >= 0 and sorting[i] > key:\n",
    "            # next value = current value\n",
    "            sorting[i + 1] = sorting[i]\n",
    "            # decrease the indices one more.\n",
    "            i = i - 1\n",
    "\n",
    "        # if the while loop is finished, store the key on 'i + 1' place\n",
    "        sorting[i + 1] = key\n",
    "    end = time.time()\n",
    "    \n",
    "    return sorting,((end-start))"
   ]
  },
  {
   "cell_type": "code",
   "execution_count": 6,
   "id": "b74f93ee",
   "metadata": {},
   "outputs": [
    {
     "name": "stdout",
     "output_type": "stream",
     "text": [
      "sorted numbers: [ 1.  3.  3.  4.  4.  6.  8.  9. 10. 10. 11. 12. 13. 13. 14.]\n",
      "time taken: 2.002716064453125e-05\n",
      "initial array: [ 8. 14.  4.  4. 13. 10.  3.  3.  6.  9.  1. 12. 13. 11. 10.]\n"
     ]
    }
   ],
   "source": [
    "sorted_array_is,total_time = insertion_sort(check_random)\n",
    "print(\"sorted numbers:\",sorted_array_is)\n",
    "print(\"time taken:\",total_time)\n",
    "print(\"initial array:\",check_random)"
   ]
  },
  {
   "cell_type": "markdown",
   "id": "3400bc4e",
   "metadata": {},
   "source": [
    "## Implementing SELECTION SORT"
   ]
  },
  {
   "cell_type": "code",
   "execution_count": 7,
   "id": "0f47ffb9",
   "metadata": {},
   "outputs": [],
   "source": [
    "# Implementing SELECTION SORT\n",
    "def selection_sort(A):\n",
    "    # copy initial array so that the initial array is not changed\n",
    "    sorting = A.copy()\n",
    "    start = time.time()\n",
    "    for i in range(len(sorting)):\n",
    "        min_index = i\n",
    "        for j in range(i + 1, len(A)):\n",
    "            if sorting[j] < sorting[min_index] and j != min_index:\n",
    "                min_index = j\n",
    "        sorting[i],sorting[min_index] = sorting[min_index],sorting[i]\n",
    "    end = time.time()\n",
    "    return sorting,(end-start)"
   ]
  },
  {
   "cell_type": "code",
   "execution_count": 8,
   "id": "dd14b866",
   "metadata": {},
   "outputs": [
    {
     "name": "stdout",
     "output_type": "stream",
     "text": [
      "sorted_array: [ 1.  3.  3.  4.  4.  6.  8.  9. 10. 10. 11. 12. 13. 13. 14.]\n",
      "time_taken: 6.723403930664062e-05\n",
      "initial array: [ 8. 14.  4.  4. 13. 10.  3.  3.  6.  9.  1. 12. 13. 11. 10.]\n"
     ]
    }
   ],
   "source": [
    "sorted_array_ss , total_time = selection_sort(check_random)\n",
    "print(\"sorted_array:\",sorted_array_ss)\n",
    "print(\"time_taken:\",total_time)\n",
    "print(\"initial array:\",check_random)"
   ]
  },
  {
   "cell_type": "code",
   "execution_count": 9,
   "id": "2d5813c1",
   "metadata": {},
   "outputs": [
    {
     "name": "stdout",
     "output_type": "stream",
     "text": [
      "[ 5000 10000 15000 20000 25000 30000]\n"
     ]
    }
   ],
   "source": [
    "# n is array which stores number 5000,10000, ....., 30000\n",
    "n = np.array([i for i in range(5000,35000,5000)])\n",
    "print(n)"
   ]
  },
  {
   "cell_type": "code",
   "execution_count": 11,
   "id": "ecf3bc3e",
   "metadata": {},
   "outputs": [
    {
     "name": "stdout",
     "output_type": "stream",
     "text": [
      "45.95\n",
      "44.71\n",
      "42.64\n",
      "43.53\n",
      "42.8\n",
      "49.18\n",
      "45.34\n",
      "43.59\n",
      "44.69\n",
      "45.41\n",
      "44.76\n",
      "43.23\n",
      "44.78\n",
      "43.76\n",
      "44.55\n",
      "44.54\n",
      "43.8\n",
      "42.71\n",
      "44.76\n",
      "44.62\n",
      "44.94\n",
      "45.15\n",
      "44.65\n",
      "45.71\n",
      "45.37\n",
      "44.35\n",
      "45.37\n",
      "45.04\n",
      "44.83\n",
      "44.33\n",
      "49.73\n",
      "43.64\n",
      "42.67\n",
      "43.43\n",
      "44.26\n",
      "45.87\n",
      "45.76\n",
      "45.41\n",
      "45.68\n",
      "43.91\n",
      "44.57\n",
      "44.05\n",
      "42.85\n",
      "41.12\n",
      "42.5\n",
      "42.05\n",
      "41.93\n",
      "43.77\n",
      "45.63\n",
      "44.24\n",
      "44.94\n",
      "43.15\n",
      "45.75\n",
      "45.02\n",
      "45.0\n",
      "43.66\n",
      "43.78\n",
      "45.92\n",
      "44.23\n",
      "44.76\n",
      "43.8\n",
      "44.62\n",
      "44.39\n",
      "46.98\n",
      "41.94\n",
      "42.66\n",
      "42.72\n",
      "43.46\n",
      "42.54\n",
      "45.24\n",
      "43.62\n",
      "44.42\n",
      "44.9\n",
      "43.92\n",
      "42.83\n",
      "45.31\n",
      "43.5\n",
      "43.35\n",
      "42.56\n",
      "46.55\n",
      "46.28\n",
      "45.02\n",
      "44.43\n",
      "44.03\n",
      "45.62\n",
      "42.95\n",
      "43.94\n",
      "44.28\n",
      "46.49\n",
      "45.81\n",
      "44.25\n",
      "46.31\n",
      "44.78\n",
      "44.17\n",
      "44.88\n",
      "45.52\n",
      "46.04\n",
      "46.31\n",
      "45.27\n",
      "45.58\n"
     ]
    }
   ],
   "source": [
    "# Check runtime for insertion sort\n",
    "\n",
    "# Generate 100 samples for insertion sort to run on\n",
    "number_of_samples = 100\n",
    "size_of_array = 1000\n",
    "\n",
    "numbers = [0 for i in range(number_of_samples)]\n",
    "sorted_numbers = [0 for i in range(number_of_samples)]\n",
    "\n",
    "for i in range(len(numbers)):\n",
    "    numbers[i] = generate_random_numbers(size_of_array)\n",
    "\n",
    "for i in range(len(numbers)):\n",
    "    sorted_numbers[i], time_taken = insertion_sort(numbers[i])\n",
    "    #sorted_numbers[i], time_taken = selection_sort(numbers[i])\n",
    "    print(round(time_taken*1000,2))\n",
    "    "
   ]
  },
  {
   "cell_type": "markdown",
   "id": "84c7c2eb",
   "metadata": {},
   "source": [
    "# PLOT 1\n",
    "## Input 1: Large random inputs.\n",
    "Generate each xi to be a uniformly random integer between 1 and n. On random inputs that you generate: For each data point take the average of 3 runs (each time generating a new random input)"
   ]
  },
  {
   "cell_type": "code",
   "execution_count": 11,
   "id": "2d15f7b0",
   "metadata": {},
   "outputs": [
    {
     "name": "stdout",
     "output_type": "stream",
     "text": [
      "dict_keys(['sample1_5000', 'sample1_10000', 'sample1_15000', 'sample1_20000', 'sample1_25000', 'sample1_30000'])\n",
      "dict_keys(['sample2_5000', 'sample2_10000', 'sample2_15000', 'sample2_20000', 'sample2_25000', 'sample2_30000'])\n",
      "dict_keys(['sample3_5000', 'sample3_10000', 'sample3_15000', 'sample3_20000', 'sample3_25000', 'sample3_30000'])\n"
     ]
    }
   ],
   "source": [
    "# create 3 different input1 dataset of size 5000,10000,.....,30000\n",
    "# store them in dictionary with name i1_input1_, i1_input2_, i1_input3_\n",
    "\n",
    "sample1_input1 = {}\n",
    "sample2_input1 = {}\n",
    "sample3_input1 = {}\n",
    "\n",
    "for i in range(len(n)):\n",
    "    sample1_input1[\"sample1_\"+str(n[i])] = generate_random_numbers(n[i])\n",
    "\n",
    "for i in range(len(n)):\n",
    "    sample2_input1[\"sample2_\"+str(n[i])] = generate_random_numbers(n[i])\n",
    "    \n",
    "for i in range(len(n)):\n",
    "    sample3_input1[\"sample3_\"+str(n[i])] = generate_random_numbers(n[i])\n",
    "\n",
    "print(sample1_input1.keys())\n",
    "print(sample2_input1.keys())\n",
    "print(sample3_input1.keys())"
   ]
  },
  {
   "cell_type": "code",
   "execution_count": 12,
   "id": "8649f392",
   "metadata": {},
   "outputs": [
    {
     "ename": "KeyboardInterrupt",
     "evalue": "",
     "output_type": "error",
     "traceback": [
      "\u001b[0;31m---------------------------------------------------------------------------\u001b[0m",
      "\u001b[0;31mKeyboardInterrupt\u001b[0m                         Traceback (most recent call last)",
      "\u001b[0;32m<ipython-input-12-3a8f727c0f8b>\u001b[0m in \u001b[0;36m<module>\u001b[0;34m\u001b[0m\n\u001b[1;32m     22\u001b[0m \u001b[0;32mfor\u001b[0m \u001b[0mkey\u001b[0m \u001b[0;32min\u001b[0m \u001b[0msample1_input1\u001b[0m\u001b[0;34m.\u001b[0m\u001b[0mkeys\u001b[0m\u001b[0;34m(\u001b[0m\u001b[0;34m)\u001b[0m\u001b[0;34m:\u001b[0m\u001b[0;34m\u001b[0m\u001b[0;34m\u001b[0m\u001b[0m\n\u001b[1;32m     23\u001b[0m     \u001b[0;31m# run selection sort for all sample1\u001b[0m\u001b[0;34m\u001b[0m\u001b[0;34m\u001b[0m\u001b[0;34m\u001b[0m\u001b[0m\n\u001b[0;32m---> 24\u001b[0;31m     \u001b[0msample1_output1_ss\u001b[0m\u001b[0;34m[\u001b[0m\u001b[0mkey\u001b[0m\u001b[0;34m]\u001b[0m\u001b[0;34m,\u001b[0m\u001b[0msample1_input1_time_ss\u001b[0m\u001b[0;34m[\u001b[0m\u001b[0mkey\u001b[0m\u001b[0;34m]\u001b[0m \u001b[0;34m=\u001b[0m \u001b[0mselection_sort\u001b[0m\u001b[0;34m(\u001b[0m\u001b[0msample1_input1\u001b[0m\u001b[0;34m[\u001b[0m\u001b[0mkey\u001b[0m\u001b[0;34m]\u001b[0m\u001b[0;34m)\u001b[0m\u001b[0;34m\u001b[0m\u001b[0;34m\u001b[0m\u001b[0m\n\u001b[0m\u001b[1;32m     25\u001b[0m     \u001b[0;31m# run insertion sort for all sample1\u001b[0m\u001b[0;34m\u001b[0m\u001b[0;34m\u001b[0m\u001b[0;34m\u001b[0m\u001b[0m\n\u001b[1;32m     26\u001b[0m     \u001b[0msample1_output1_is\u001b[0m\u001b[0;34m[\u001b[0m\u001b[0mkey\u001b[0m\u001b[0;34m]\u001b[0m\u001b[0;34m,\u001b[0m\u001b[0msample1_input1_time_is\u001b[0m\u001b[0;34m[\u001b[0m\u001b[0mkey\u001b[0m\u001b[0;34m]\u001b[0m \u001b[0;34m=\u001b[0m \u001b[0minsertion_sort\u001b[0m\u001b[0;34m(\u001b[0m\u001b[0msample1_input1\u001b[0m\u001b[0;34m[\u001b[0m\u001b[0mkey\u001b[0m\u001b[0;34m]\u001b[0m\u001b[0;34m)\u001b[0m\u001b[0;34m\u001b[0m\u001b[0;34m\u001b[0m\u001b[0m\n",
      "\u001b[0;32m<ipython-input-7-dcb117e1017f>\u001b[0m in \u001b[0;36mselection_sort\u001b[0;34m(A)\u001b[0m\n\u001b[1;32m      7\u001b[0m         \u001b[0mmin_index\u001b[0m \u001b[0;34m=\u001b[0m \u001b[0mi\u001b[0m\u001b[0;34m\u001b[0m\u001b[0;34m\u001b[0m\u001b[0m\n\u001b[1;32m      8\u001b[0m         \u001b[0;32mfor\u001b[0m \u001b[0mj\u001b[0m \u001b[0;32min\u001b[0m \u001b[0mrange\u001b[0m\u001b[0;34m(\u001b[0m\u001b[0mi\u001b[0m \u001b[0;34m+\u001b[0m \u001b[0;36m1\u001b[0m\u001b[0;34m,\u001b[0m \u001b[0mlen\u001b[0m\u001b[0;34m(\u001b[0m\u001b[0mA\u001b[0m\u001b[0;34m)\u001b[0m\u001b[0;34m)\u001b[0m\u001b[0;34m:\u001b[0m\u001b[0;34m\u001b[0m\u001b[0;34m\u001b[0m\u001b[0m\n\u001b[0;32m----> 9\u001b[0;31m             \u001b[0;32mif\u001b[0m \u001b[0msorting\u001b[0m\u001b[0;34m[\u001b[0m\u001b[0mj\u001b[0m\u001b[0;34m]\u001b[0m \u001b[0;34m<\u001b[0m \u001b[0msorting\u001b[0m\u001b[0;34m[\u001b[0m\u001b[0mmin_index\u001b[0m\u001b[0;34m]\u001b[0m \u001b[0;32mand\u001b[0m \u001b[0mj\u001b[0m \u001b[0;34m!=\u001b[0m \u001b[0mmin_index\u001b[0m\u001b[0;34m:\u001b[0m\u001b[0;34m\u001b[0m\u001b[0;34m\u001b[0m\u001b[0m\n\u001b[0m\u001b[1;32m     10\u001b[0m                 \u001b[0mmin_index\u001b[0m \u001b[0;34m=\u001b[0m \u001b[0mj\u001b[0m\u001b[0;34m\u001b[0m\u001b[0;34m\u001b[0m\u001b[0m\n\u001b[1;32m     11\u001b[0m         \u001b[0msorting\u001b[0m\u001b[0;34m[\u001b[0m\u001b[0mi\u001b[0m\u001b[0;34m]\u001b[0m\u001b[0;34m,\u001b[0m\u001b[0msorting\u001b[0m\u001b[0;34m[\u001b[0m\u001b[0mmin_index\u001b[0m\u001b[0;34m]\u001b[0m \u001b[0;34m=\u001b[0m \u001b[0msorting\u001b[0m\u001b[0;34m[\u001b[0m\u001b[0mmin_index\u001b[0m\u001b[0;34m]\u001b[0m\u001b[0;34m,\u001b[0m\u001b[0msorting\u001b[0m\u001b[0;34m[\u001b[0m\u001b[0mi\u001b[0m\u001b[0;34m]\u001b[0m\u001b[0;34m\u001b[0m\u001b[0;34m\u001b[0m\u001b[0m\n",
      "\u001b[0;31mKeyboardInterrupt\u001b[0m: "
     ]
    }
   ],
   "source": [
    "# dictionary for storing time taken for selection sort(ss) to sort sample1,sample2, and sample3\n",
    "sample1_input1_time_ss = {}\n",
    "sample2_input1_time_ss = {}\n",
    "sample3_input1_time_ss = {}\n",
    "\n",
    "# dictionary for storing time taken for insertion sort(is) to sort sample1,sample2,and sample3\n",
    "sample1_input1_time_is = {}\n",
    "sample2_input1_time_is = {}\n",
    "sample3_input1_time_is = {}\n",
    "\n",
    "# dictionary for storing sorted output of sample1, sample2, sample3 using selection sort\n",
    "sample1_output1_ss = {}\n",
    "sample2_output1_ss = {}\n",
    "sample3_output1_ss = {}\n",
    "\n",
    "#dictionary for storing sorted output of sample1,sample2,sample3 using insertion sort\n",
    "sample1_output1_is = {}\n",
    "sample2_output1_is = {}\n",
    "sample3_output1_is = {}\n",
    "\n",
    "# run insertion & selection sort for all the values in n for sample 1\n",
    "for key in sample1_input1.keys():\n",
    "    # run selection sort for all sample1\n",
    "    sample1_output1_ss[key],sample1_input1_time_ss[key] = selection_sort(sample1_input1[key])\n",
    "    # run insertion sort for all sample1\n",
    "    sample1_output1_is[key],sample1_input1_time_is[key] = insertion_sort(sample1_input1[key])\n",
    "\n",
    "# # run insertion & selection sort for all the values in n for sample 2\n",
    "# for key in sample2_input1.keys():\n",
    "#     # run selection sort for all sample1\n",
    "#     sample2_output1_ss[key],sample2_input1_time_ss[key] = selection_sort(sample2_input1[key])\n",
    "#     # run insertion sort for all sample1\n",
    "#     sample2_output1_is[key],sample2_input1_time_is[key] = insertion_sort(sample2_input1[key])\n",
    "    \n",
    "# # run insertion & selection sort for all the values in n for sample 3\n",
    "# for key in sample3_input1.keys():\n",
    "#     # run selection sort for all sample1\n",
    "#     sample3_output1_ss[key],sample3_input1_time_ss[key] = selection_sort(sample3_input1[key])\n",
    "#     # run insertion sort for all sample1\n",
    "#     sample3_output1_is[key],sample3_input1_time_is[key] = insertion_sort(sample3_input1[key])"
   ]
  },
  {
   "cell_type": "code",
   "execution_count": 12,
   "id": "74a5122c",
   "metadata": {},
   "outputs": [
    {
     "name": "stdout",
     "output_type": "stream",
     "text": [
      "{'sample1_5000': 3.4781382083892822, 'sample1_10000': 13.90602707862854, 'sample1_15000': 31.777275562286377, 'sample1_20000': 58.062750816345215, 'sample1_25000': 89.28025388717651, 'sample1_30000': 130.1223726272583}\n",
      "\r\n",
      "\n",
      "{'sample2_5000': 3.4139552116394043, 'sample2_10000': 13.24354887008667, 'sample2_15000': 29.976889848709106, 'sample2_20000': 59.794150829315186, 'sample2_25000': 90.45180296897888, 'sample2_30000': 119.90485525131226}\n",
      "\r\n",
      "\n",
      "{'sample3_5000': 3.3112969398498535, 'sample3_10000': 13.127347469329834, 'sample3_15000': 29.544314861297607, 'sample3_20000': 54.51063656806946, 'sample3_25000': 83.29006767272949, 'sample3_30000': 121.99559330940247}\n"
     ]
    }
   ],
   "source": [
    "print(sample1_input1_time_ss)\n",
    "# print(\"\\r\\n\")\n",
    "# print(sample2_input1_time_ss)\n",
    "# print(\"\\r\\n\")\n",
    "# print(sample3_input1_time_ss)"
   ]
  },
  {
   "cell_type": "code",
   "execution_count": 13,
   "id": "cf6be7bf",
   "metadata": {
    "scrolled": false
   },
   "outputs": [
    {
     "name": "stdout",
     "output_type": "stream",
     "text": [
      "{'sample1_5000': 2.701432228088379, 'sample1_10000': 10.765633344650269, 'sample1_15000': 25.579185724258423, 'sample1_20000': 44.331087827682495, 'sample1_25000': 69.76369214057922, 'sample1_30000': 101.41702699661255}\n",
      "\r\n",
      "\n",
      "{'sample2_5000': 2.640712022781372, 'sample2_10000': 10.771873474121094, 'sample2_15000': 26.479238986968994, 'sample2_20000': 47.150471210479736, 'sample2_25000': 70.85534238815308, 'sample2_30000': 96.52046775817871}\n",
      "\r\n",
      "\n",
      "{'sample3_5000': 2.6606664657592773, 'sample3_10000': 10.689514875411987, 'sample3_15000': 24.006566762924194, 'sample3_20000': 42.41326355934143, 'sample3_25000': 66.88863706588745, 'sample3_30000': 105.43477129936218}\n",
      "\r\n",
      "\n"
     ]
    }
   ],
   "source": [
    "print(sample1_input1_time_is)\n",
    "# print(\"\\r\\n\")\n",
    "# print(sample2_input1_time_is)\n",
    "# print(\"\\r\\n\")\n",
    "# print(sample3_input1_time_is)\n",
    "# print(\"\\r\\n\")"
   ]
  },
  {
   "cell_type": "markdown",
   "id": "5190d9ca",
   "metadata": {},
   "source": [
    "## Using MATPLOTLIB to plot result for Input1/Plot1"
   ]
  },
  {
   "cell_type": "code",
   "execution_count": 14,
   "id": "f426df4e",
   "metadata": {},
   "outputs": [],
   "source": [
    "import matplotlib.pyplot as plt"
   ]
  },
  {
   "cell_type": "code",
   "execution_count": 15,
   "id": "fdc3026d",
   "metadata": {},
   "outputs": [
    {
     "name": "stdout",
     "output_type": "stream",
     "text": [
      "time for insertion sort [  2.66760357  10.74234056  25.35499716  44.63160753  69.16922386\n",
      " 101.12408868]\n",
      "time for selection sort [  3.40113012  13.42564114  30.43282676  57.45584607  87.67404151\n",
      " 124.00760706]\n",
      "for samples of size n = [ 5000 10000 15000 20000 25000 30000]\n"
     ]
    },
    {
     "data": {
      "image/png": "[encoded data removed]",
      "text/plain": [
       "<Figure size 640x480 with 1 Axes>"
      ]
     },
     "metadata": {
      "needs_background": "light"
     },
     "output_type": "display_data"
    }
   ],
   "source": [
    "# select x_axis as the number of sample\n",
    "x_axis = n\n",
    "# find average time for 3 sample of insertion sort\n",
    "y_axis_time_is = np.zeros(6)\n",
    "for i in range(len(n)):\n",
    "    y_axis_time_is[i] = sample1_input1_time_is[\"sample1_\"+str(n[i])] + sample2_input1_time_is[\"sample2_\"+str(n[i])] + sample3_input1_time_is[\"sample3_\"+str(n[i])]\n",
    "    y_axis_time_is[i] = y_axis_time_is[i] / 3\n",
    "    \n",
    "# find average time for 3 sample of selection sort\n",
    "y_axis_time_ss = np.zeros(6)\n",
    "for i in range(len(n)):\n",
    "    y_axis_time_ss[i] = sample1_input1_time_ss[\"sample1_\"+str(n[i])] + sample2_input1_time_ss[\"sample2_\"+str(n[i])] + sample3_input1_time_ss[\"sample3_\"+str(n[i])]\n",
    "    y_axis_time_ss[i] = y_axis_time_ss[i] / 3\n",
    "\n",
    "# print time taken for selection sort and insertion sort\n",
    "print(\"time for insertion sort\", y_axis_time_is)\n",
    "print(\"time for selection sort\", y_axis_time_ss)\n",
    "print(\"for samples of size n =\", n)\n",
    "\n",
    "plt.figure(figsize=(8, 6), dpi=80)\n",
    "plt.xlabel(\"Input array size\")\n",
    "plt.ylabel(\"time taken (sec)\")\n",
    "# plot for insertion sort\n",
    "plt.plot(x_axis,y_axis_time_is,'bo',label = \"insertion sort\")\n",
    "plt.plot(x_axis,y_axis_time_is,'b')\n",
    "# plot for selection sort\n",
    "plt.plot(x_axis,y_axis_time_ss,'ko',label = \"selection sort\")\n",
    "plt.plot(x_axis,y_axis_time_ss,'k')\n",
    "plt.legend()\n",
    "plt.show()"
   ]
  },
  {
   "cell_type": "markdown",
   "id": "be8022e9",
   "metadata": {},
   "source": [
    "# Plot 2\n",
    "\n",
    "## Input 2: Non decreasing inputs\n",
    "Generate each xi to be a uniformly random integer between 1 and n and sort the resulting sequence in non-decreasing order (x1 < x2 < x3 < ... < xn). Then run each of the sorting algorithms again and measure its performance"
   ]
  },
  {
   "cell_type": "code",
   "execution_count": null,
   "id": "cddbc046",
   "metadata": {},
   "outputs": [],
   "source": [
    "# since input2 is non decreasing input, we can reuse output of input1 as the input for plot 2\n",
    "sample1_input2 = sample1_output1_ss\n",
    "sample2_input2 = sample2_output1_ss\n",
    "sample3_input2 = sample3_output1_ss"
   ]
  },
  {
   "cell_type": "code",
   "execution_count": null,
   "id": "b49247bf",
   "metadata": {},
   "outputs": [],
   "source": [
    "# dictionary for storing time taken for selection sort(ss) to sort sample1,sample2, and sample3\n",
    "sample1_input2_time_ss = {}\n",
    "sample2_input2_time_ss = {}\n",
    "sample3_input2_time_ss = {}\n",
    "\n",
    "# dictionary for storing time taken for insertion sort(is) to sort sample1,sample2,and sample3\n",
    "sample1_input2_time_is = {}\n",
    "sample2_input2_time_is = {}\n",
    "sample3_input2_time_is = {}\n",
    "\n",
    "# dictionary for storing sorted output of sample1, sample2, sample3 using selection sort\n",
    "sample1_output2_ss = {}\n",
    "sample2_output2_ss = {}\n",
    "sample3_output2_ss = {}\n",
    "\n",
    "#dictionary for storing sorted output of sample1,sample2,sample3 using insertion sort\n",
    "sample1_output2_is = {}\n",
    "sample2_output2_is = {}\n",
    "sample3_output2_is = {}\n",
    "\n",
    "# run insertion & selection sort for all the values in n for sample 1\n",
    "for key in sample1_input2.keys():\n",
    "    # run selection sort for all sample1\n",
    "    sample1_output2_ss[key],sample1_input2_time_ss[key] = selection_sort(sample1_input2[key])\n",
    "    # run insertion sort for all sample1\n",
    "    sample1_output2_is[key],sample1_input2_time_is[key] = insertion_sort(sample1_input2[key])\n",
    "\n",
    "# run insertion & selection sort for all the values in n for sample 2\n",
    "for key in sample2_input2.keys():\n",
    "    # run selection sort for all sample1\n",
    "    sample2_output2_ss[key],sample2_input2_time_ss[key] = selection_sort(sample2_input2[key])\n",
    "    # run insertion sort for all sample1\n",
    "    sample2_output2_is[key],sample2_input2_time_is[key] = insertion_sort(sample2_input2[key])\n",
    "    \n",
    "# run insertion & selection sort for all the values in n for sample 3\n",
    "for key in sample3_input2.keys():\n",
    "    # run selection sort for all sample1\n",
    "    sample3_output2_ss[key],sample3_input2_time_ss[key] = selection_sort(sample3_input2[key])\n",
    "    # run insertion sort for all sample1\n",
    "    sample3_output2_is[key],sample3_input2_time_is[key] = insertion_sort(sample3_input2[key])"
   ]
  },
  {
   "cell_type": "code",
   "execution_count": null,
   "id": "fc277f26",
   "metadata": {},
   "outputs": [],
   "source": [
    "print(sample1_input2_time_ss)\n",
    "print(\"\\r\\n\")\n",
    "print(sample2_input2_time_ss)\n",
    "print(\"\\r\\n\")\n",
    "print(sample3_input2_time_ss)"
   ]
  },
  {
   "cell_type": "code",
   "execution_count": null,
   "id": "efd6179f",
   "metadata": {},
   "outputs": [],
   "source": [
    "print(sample1_input2_time_is)\n",
    "print(\"\\r\\n\")\n",
    "print(sample2_input2_time_is)\n",
    "print(\"\\r\\n\")\n",
    "print(sample3_input2_time_is)\n",
    "print(\"\\r\\n\")"
   ]
  },
  {
   "cell_type": "code",
   "execution_count": null,
   "id": "f6ed3691",
   "metadata": {},
   "outputs": [],
   "source": [
    "# select x_axis as the number of sample\n",
    "x_axis = n\n",
    "# find average time for 3 sample of insertion sort\n",
    "y_axis_time_is = np.zeros(6)\n",
    "for i in range(len(n)):\n",
    "    y_axis_time_is[i] = sample1_input2_time_is[\"sample1_\"+str(n[i])] + sample2_input2_time_is[\"sample2_\"+str(n[i])] + sample3_input2_time_is[\"sample3_\"+str(n[i])]\n",
    "    y_axis_time_is[i] = y_axis_time_is[i] / 3\n",
    "    \n",
    "# find average time for 3 sample of selection sort\n",
    "y_axis_time_ss = np.zeros(6)\n",
    "for i in range(len(n)):\n",
    "    y_axis_time_ss[i] = sample1_input2_time_ss[\"sample1_\"+str(n[i])] + sample2_input2_time_ss[\"sample2_\"+str(n[i])] + sample3_input2_time_ss[\"sample3_\"+str(n[i])]\n",
    "    y_axis_time_ss[i] = y_axis_time_ss[i] / 3\n",
    "\n",
    "# print time taken for selection sort and insertion sort\n",
    "print(\"time for insertion sort\", y_axis_time_is)\n",
    "print(\"time for selection sort\", y_axis_time_ss)\n",
    "print(\"for samples of size n =\", n)\n",
    "\n",
    "plt.figure(figsize=(8, 6), dpi=80)\n",
    "plt.xlabel(\"Input array size\")\n",
    "plt.ylabel(\"time taken (sec)\")\n",
    "# plot for insertion sort\n",
    "plt.plot(x_axis,y_axis_time_is,'bo',label = \"insertion sort\")\n",
    "plt.plot(x_axis,y_axis_time_is,'b')\n",
    "# plot for selection sort\n",
    "plt.plot(x_axis,y_axis_time_ss,'ko',label = \"selection sort\")\n",
    "plt.plot(x_axis,y_axis_time_ss,'k')\n",
    "plt.legend()\n",
    "plt.show()"
   ]
  },
  {
   "cell_type": "markdown",
   "id": "bb6220f8",
   "metadata": {},
   "source": [
    "# Plot 3\n",
    "\n",
    "## Input 3: Non-increasing inputs.\n",
    "Generate each xi to be a uniformly random integer between 1 and n and sort the resulting sequence in non-increasing order (x1 ≥ x2 ≥ . . . ≥ xn ). Then run each of the sorting algorithms again and measure its performance.\n"
   ]
  },
  {
   "cell_type": "code",
   "execution_count": null,
   "id": "be21b73a",
   "metadata": {},
   "outputs": [],
   "source": [
    "def reverse_dictionary(A):\n",
    "    reverse = A.copy()\n",
    "    for key in reverse:\n",
    "        reverse[key] = reverse[key][::-1]\n",
    "    return reverse"
   ]
  },
  {
   "cell_type": "code",
   "execution_count": null,
   "id": "d96b0562",
   "metadata": {},
   "outputs": [],
   "source": [
    "# since input3 is non increasing input, we can reuse sorted output of input1 and reverse it \n",
    "sample1_input3 = reverse_dictionary(sample1_output1_ss)\n",
    "sample2_input3 = reverse_dictionary(sample2_output1_ss)\n",
    "sample3_input3 = reverse_dictionary(sample3_output1_ss)"
   ]
  },
  {
   "cell_type": "code",
   "execution_count": null,
   "id": "cb76dcf7",
   "metadata": {},
   "outputs": [],
   "source": [
    "print(sample3_input3[\"sample3_5000\"][:20])"
   ]
  },
  {
   "cell_type": "code",
   "execution_count": null,
   "id": "5ae4b276",
   "metadata": {},
   "outputs": [],
   "source": [
    "# dictionary for storing time taken for selection sort(ss) to sort sample1,sample2, and sample3\n",
    "sample1_input3_time_ss = {}\n",
    "sample2_input3_time_ss = {}\n",
    "sample3_input3_time_ss = {}\n",
    "\n",
    "# dictionary for storing time taken for insertion sort(is) to sort sample1,sample2,and sample3\n",
    "sample1_input3_time_is = {}\n",
    "sample2_input3_time_is = {}\n",
    "sample3_input3_time_is = {}\n",
    "\n",
    "# dictionary for storing sorted output of sample1, sample2, sample3 using selection sort\n",
    "sample1_output3_ss = {}\n",
    "sample2_output3_ss = {}\n",
    "sample3_output3_ss = {}\n",
    "\n",
    "#dictionary for storing sorted output of sample1,sample2,sample3 using insertion sort\n",
    "sample1_output3_is = {}\n",
    "sample2_output3_is = {}\n",
    "sample3_output3_is = {}\n",
    "\n",
    "# run insertion & selection sort for all the values in n for sample 1\n",
    "for key in sample1_input3.keys():\n",
    "    # run selection sort for all sample1\n",
    "    sample1_output3_ss[key],sample1_input3_time_ss[key] = selection_sort(sample1_input3[key])\n",
    "    # run insertion sort for all sample1\n",
    "    sample1_output3_is[key],sample1_input3_time_is[key] = insertion_sort(sample1_input3[key])\n",
    "\n",
    "# run insertion & selection sort for all the values in n for sample 2\n",
    "for key in sample2_input3.keys():\n",
    "    # run selection sort for all sample1\n",
    "    sample2_output3_ss[key],sample2_input3_time_ss[key] = selection_sort(sample2_input3[key])\n",
    "    # run insertion sort for all sample1\n",
    "    sample2_output3_is[key],sample2_input3_time_is[key] = insertion_sort(sample2_input3[key])\n",
    "    \n",
    "# run insertion & selection sort for all the values in n for sample 3\n",
    "for key in sample3_input3.keys():\n",
    "    # run selection sort for all sample1\n",
    "    sample3_output3_ss[key],sample3_input3_time_ss[key] = selection_sort(sample3_input3[key])\n",
    "    # run insertion sort for all sample1\n",
    "    sample3_output3_is[key],sample3_input3_time_is[key] = insertion_sort(sample3_input3[key])"
   ]
  },
  {
   "cell_type": "code",
   "execution_count": null,
   "id": "8e1cd7b6",
   "metadata": {},
   "outputs": [],
   "source": [
    "print(sample1_input3_time_ss)\n",
    "print(\"\\r\\n\")\n",
    "print(sample2_input3_time_ss)\n",
    "print(\"\\r\\n\")\n",
    "print(sample3_input3_time_ss)"
   ]
  },
  {
   "cell_type": "code",
   "execution_count": null,
   "id": "a3c1ba55",
   "metadata": {},
   "outputs": [],
   "source": [
    "print(sample1_input3_time_is)\n",
    "print(\"\\r\\n\")\n",
    "print(sample2_input3_time_is)\n",
    "print(\"\\r\\n\")\n",
    "print(sample3_input3_time_is)\n",
    "print(\"\\r\\n\")"
   ]
  },
  {
   "cell_type": "code",
   "execution_count": null,
   "id": "4f229e5c",
   "metadata": {},
   "outputs": [],
   "source": [
    "# select x_axis as the number of sample\n",
    "x_axis = n\n",
    "# find average time for 3 sample of insertion sort\n",
    "y_axis_time_is = np.zeros(6)\n",
    "for i in range(len(n)):\n",
    "    y_axis_time_is[i] = sample1_input3_time_is[\"sample1_\"+str(n[i])] + sample2_input3_time_is[\"sample2_\"+str(n[i])] + sample3_input3_time_is[\"sample3_\"+str(n[i])]\n",
    "    y_axis_time_is[i] = y_axis_time_is[i] / 3\n",
    "    \n",
    "# find average time for 3 sample of selection sort\n",
    "y_axis_time_ss = np.zeros(6)\n",
    "for i in range(len(n)):\n",
    "    y_axis_time_ss[i] = sample1_input3_time_ss[\"sample1_\"+str(n[i])] + sample2_input3_time_ss[\"sample2_\"+str(n[i])] + sample3_input3_time_ss[\"sample3_\"+str(n[i])]\n",
    "    y_axis_time_ss[i] = y_axis_time_ss[i] / 3\n",
    "\n",
    "# print time taken for selection sort and insertion sort\n",
    "print(\"time for insertion sort\", y_axis_time_is)\n",
    "print(\"time for selection sort\", y_axis_time_ss)\n",
    "print(\"for samples of size n =\", n)\n",
    "\n",
    "plt.figure(figsize=(8, 6), dpi=80)\n",
    "plt.xlabel(\"Input array size\")\n",
    "plt.ylabel(\"time taken (sec)\")\n",
    "# plot for insertion sort\n",
    "plt.plot(x_axis,y_axis_time_is,'bo',label = \"insertion sort\")\n",
    "plt.plot(x_axis,y_axis_time_is,'b')\n",
    "# plot for selection sort\n",
    "plt.plot(x_axis,y_axis_time_ss,'ko',label = \"selection sort\")\n",
    "plt.plot(x_axis,y_axis_time_ss,'k')\n",
    "plt.legend()\n",
    "plt.show()"
   ]
  },
  {
   "cell_type": "markdown",
   "id": "bfa37b27",
   "metadata": {},
   "source": [
    "# Plot 4\n",
    "## Input 4: Noisy non-decreasing input\n",
    "- Generate input as plot 2\n",
    "- Repeat the following 50 times: pick two random integers i and j, and exchange xi and xj"
   ]
  },
  {
   "cell_type": "code",
   "execution_count": null,
   "id": "3adfc030",
   "metadata": {},
   "outputs": [],
   "source": [
    "def exchange_50_times(A):\n",
    "    check = A.copy()\n",
    "    n_count = 0\n",
    "    for key in check.keys():\n",
    "        for i in range(50):\n",
    "            r_1 = np.random.randint(1,n[n_count])\n",
    "            r_2 = np.random.randint(1,n[n_count])\n",
    "            check[key][r_1],check[key][r_2] = check[key][r_2],check[key][r_1]\n",
    "        n_count += 1\n",
    "    return check"
   ]
  },
  {
   "cell_type": "code",
   "execution_count": null,
   "id": "e0911f3b",
   "metadata": {},
   "outputs": [],
   "source": [
    "sample1_input4 = exchange_50_times(sample1_output1_ss)\n",
    "sample2_input4 = exchange_50_times(sample2_output1_ss)\n",
    "sample3_input4 = exchange_50_times(sample3_output1_ss)"
   ]
  },
  {
   "cell_type": "code",
   "execution_count": null,
   "id": "888565a5",
   "metadata": {},
   "outputs": [],
   "source": [
    "# dictionary for storing time taken for selection sort(ss) to sort sample1,sample2, and sample3\n",
    "sample1_input4_time_ss = {}\n",
    "sample2_input4_time_ss = {}\n",
    "sample3_input4_time_ss = {}\n",
    "\n",
    "# dictionary for storing time taken for insertion sort(is) to sort sample1,sample2,and sample3\n",
    "sample1_input4_time_is = {}\n",
    "sample2_input4_time_is = {}\n",
    "sample3_input4_time_is = {}\n",
    "\n",
    "# dictionary for storing sorted output of sample1, sample2, sample3 using selection sort\n",
    "sample1_output4_ss = {}\n",
    "sample2_output4_ss = {}\n",
    "sample3_output4_ss = {}\n",
    "\n",
    "#dictionary for storing sorted output of sample1,sample2,sample3 using insertion sort\n",
    "sample1_output4_is = {}\n",
    "sample2_output4_is = {}\n",
    "sample3_output4_is = {}\n",
    "\n",
    "# run insertion & selection sort for all the values in n for sample 1\n",
    "for key in sample1_input4.keys():\n",
    "    # run selection sort for all sample1\n",
    "    sample1_output4_ss[key],sample1_input4_time_ss[key] = selection_sort(sample1_input4[key])\n",
    "    # run insertion sort for all sample1\n",
    "    sample1_output4_is[key],sample1_input4_time_is[key] = insertion_sort(sample1_input4[key])\n",
    "\n",
    "# run insertion & selection sort for all the values in n for sample 2\n",
    "for key in sample2_input4.keys():\n",
    "    # run selection sort for all sample1\n",
    "    sample2_output4_ss[key],sample2_input4_time_ss[key] = selection_sort(sample2_input4[key])\n",
    "    # run insertion sort for all sample1\n",
    "    sample2_output4_is[key],sample2_input4_time_is[key] = insertion_sort(sample2_input4[key])\n",
    "    \n",
    "# run insertion & selection sort for all the values in n for sample 3\n",
    "for key in sample3_input4.keys():\n",
    "    # run selection sort for all sample1\n",
    "    sample3_output4_ss[key],sample3_input4_time_ss[key] = selection_sort(sample3_input4[key])\n",
    "    # run insertion sort for all sample1\n",
    "    sample3_output4_is[key],sample3_input4_time_is[key] = insertion_sort(sample3_input4[key])"
   ]
  },
  {
   "cell_type": "code",
   "execution_count": null,
   "id": "10760dd5",
   "metadata": {},
   "outputs": [],
   "source": [
    "print(sample1_input4_time_ss)\n",
    "print(\"\\r\\n\")\n",
    "print(sample2_input4_time_ss)\n",
    "print(\"\\r\\n\")\n",
    "print(sample3_input4_time_ss)"
   ]
  },
  {
   "cell_type": "code",
   "execution_count": null,
   "id": "1ddc2ccf",
   "metadata": {},
   "outputs": [],
   "source": [
    "print(sample1_input4_time_is)\n",
    "print(\"\\r\\n\")\n",
    "print(sample2_input4_time_is)\n",
    "print(\"\\r\\n\")\n",
    "print(sample3_input4_time_is)"
   ]
  },
  {
   "cell_type": "code",
   "execution_count": null,
   "id": "3e244831",
   "metadata": {
    "scrolled": true
   },
   "outputs": [],
   "source": [
    "# select x_axis as the number of sample\n",
    "x_axis = n\n",
    "# find average time for 3 sample of insertion sort\n",
    "y_axis_time_is = np.zeros(6)\n",
    "for i in range(len(n)):\n",
    "    y_axis_time_is[i] = sample1_input4_time_is[\"sample1_\"+str(n[i])] + sample2_input4_time_is[\"sample2_\"+str(n[i])] + sample3_input4_time_is[\"sample3_\"+str(n[i])]\n",
    "    y_axis_time_is[i] = y_axis_time_is[i] / 3\n",
    "    \n",
    "# find average time for 3 sample of selection sort\n",
    "y_axis_time_ss = np.zeros(6)\n",
    "for i in range(len(n)):\n",
    "    y_axis_time_ss[i] = sample1_input4_time_ss[\"sample1_\"+str(n[i])] + sample2_input4_time_ss[\"sample2_\"+str(n[i])] + sample3_input4_time_ss[\"sample3_\"+str(n[i])]\n",
    "    y_axis_time_ss[i] = y_axis_time_ss[i] / 3\n",
    "\n",
    "# print time taken for selection sort and insertion sort\n",
    "print(\"time for insertion sort\", y_axis_time_is)\n",
    "print(\"time for selection sort\", y_axis_time_ss)\n",
    "print(\"for samples of size n =\", n)\n",
    "\n",
    "plt.figure(figsize=(8, 6), dpi=80)\n",
    "plt.xlabel(\"Input array size\")\n",
    "plt.ylabel(\"time taken (sec)\")\n",
    "# plot for insertion sort\n",
    "plt.plot(x_axis,y_axis_time_is,'bo',label = \"insertion sort\")\n",
    "plt.plot(x_axis,y_axis_time_is,'b')\n",
    "# plot for selection sort\n",
    "plt.plot(x_axis,y_axis_time_ss,'ko',label = \"selection sort\")\n",
    "plt.plot(x_axis,y_axis_time_ss,'k')\n",
    "plt.legend()\n",
    "plt.show()"
   ]
  },
  {
   "cell_type": "markdown",
   "id": "c81e5138",
   "metadata": {},
   "source": [
    "## Input 5: Small random inputs:\n",
    "\n",
    "Generate 100,000 inputs as in Input/Plot 1 for n = 50. Measure\n",
    "the overall runtime of sorting these inputs. There is no plot for this type of input, just compare the two\n",
    "resulting runtimes.\n",
    "\n"
   ]
  },
  {
   "cell_type": "code",
   "execution_count": null,
   "id": "eb2a9e58",
   "metadata": {},
   "outputs": [],
   "source": [
    "input5 = generate_random_numbers(100000,high = 50)\n",
    "output5_is, input5_time_is = insertion_sort(input5)\n",
    "output5_ss, input5_time_ss = selection_sort(input5)"
   ]
  },
  {
   "cell_type": "code",
   "execution_count": null,
   "id": "928a3674",
   "metadata": {},
   "outputs": [],
   "source": [
    "print(\"Time taken by insertion sort to sort 100,000 random numbers is:\",input5_time_is)\n",
    "print(\"Time taken by selection sort to sort 100,000 random numbers is:\",input5,time_ss)"
   ]
  }
 ],
 "metadata": {
  "kernelspec": {
   "display_name": "Python 3",
   "language": "python",
   "name": "python3"
  },
  "language_info": {
   "codemirror_mode": {
    "name": "ipython",
    "version": 3
   },
   "file_extension": ".py",
   "mimetype": "text/x-python",
   "name": "python",
   "nbconvert_exporter": "python",
   "pygments_lexer": "ipython3",
   "version": "3.8.12"
  }
 },
 "nbformat": 4,
 "nbformat_minor": 5
}
